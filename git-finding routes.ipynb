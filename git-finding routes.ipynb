{
 "cells": [
  {
   "cell_type": "code",
   "execution_count": null,
   "id": "7ca6b8ff-117f-4811-9104-3d0de64ddca9",
   "metadata": {},
   "outputs": [
    {
     "name": "stdout",
     "output_type": "stream",
     "text": [
      "Finding paths from SFO to BOS with max segments 2\n",
      "defaultdict(<class 'list'>, {2: [('Unknown', 'Unknown', 'Unknown'), ('Unknown', 'Unknown', 'Unknown'), ('Unknown', 'Unknown', 'Unknown'), ('Unknown', 'Unknown', 'Unknown'), ('Unknown', 'Unknown', 'Unknown'), ('Unknown', 'Unknown', 'Unknown'), ('Unknown', 'Unknown', 'Unknown'), ('Unknown', 'Unknown', 'Unknown'), ('Unknown', 'Unknown', 'Unknown'), ('Unknown', 'Unknown', 'Unknown'), ('Unknown', 'Unknown', 'Unknown'), ('Unknown', 'Unknown', 'Unknown'), ('Unknown', 'Unknown', 'Unknown'), ('Unknown', 'Unknown', 'Unknown'), ('Unknown', 'Unknown', 'Unknown'), ('Unknown', 'Unknown', 'Unknown'), ('Unknown', 'Unknown', 'Unknown'), ('Unknown', 'Unknown', 'Unknown'), ('Unknown', 'Unknown', 'Unknown'), ('Unknown', 'Unknown', 'Unknown'), ('Unknown', 'Unknown', 'Unknown'), ('Unknown', 'Unknown', 'Unknown')], 1: [('Unknown', 'Unknown')]})\n"
     ]
    }
   ],
   "source": [
    "import csv\n",
    "import json\n",
    "import pandas as pd\n",
    "from collections import defaultdict \n",
    "\n",
    "def read_airlines(filename='airlines.dat'):\n",
    "    df = pd.read_csv(filename,on_bad_lines='skip', header=None)\n",
    "    df = df.dropna(axis=0, thresh = 3)\n",
    "    df = df.fillna('-',axis=1)\n",
    "    airlines = df.set_index(4)[1].to_dict()\n",
    "    return airlines # {'AJO': 'Aeroejecutivo',\n",
    "\n",
    "def read_airports(filename='airports.dat'):\n",
    "    column_names = [\"ID\", \"Airport Name\", \"City\", \"Country\", \"Code\", \"ICAO\", \n",
    "                    \"Latitude\", \"Longitude\", \"Altitude\", \"Timezone\", \"DST\", \n",
    "                    \"Region\", \"Source\"]\n",
    "\n",
    "    df = pd.read_csv('airports.dat', names = column_names, header=0)\n",
    "    df = df.dropna(axis=1) #, thresh = 3)\n",
    "    df = df.fillna('-',axis=1)\n",
    "    airports = df.set_index('Country')[\"ID\"].to_dict()\n",
    "\n",
    "    return airports # {'BOA': 'Boma Airport',\n",
    "    \n",
    "def read_routes(filename='routes.dat'):\n",
    "    routes = {}  # Map from source -> list of dests\n",
    "    with open(filename) as f:\n",
    "        reader = csv.reader(f)\n",
    "        for line in reader:\n",
    "            source, dest = line[2], line[4]\n",
    "            if source not in routes:\n",
    "                routes[source] = []\n",
    "            routes[source].append(dest)\n",
    "    return routes\n",
    "        \n",
    "def find_paths(routes, source, dest, max_segments):\n",
    "    frontier = {source}\n",
    "    seen = {source: {(source, )}}\n",
    "    print(f\"Finding paths from {source} to {dest} with max segments {max_segments}\")\n",
    "    for steps in range(max_segments):\n",
    "        next_frontier = set() \n",
    "        for airport in frontier:\n",
    "            # Get the destinations for the current airport\n",
    "            targets = routes.get(airport, [])\n",
    "            for target in targets:\n",
    "                if target not in seen:\n",
    "                    next_frontier.add(target)\n",
    "                    seen[target] = set()\n",
    "                for path in seen[airport]:\n",
    "                    if len(path) == steps + 1:  \n",
    "                        seen[target].add(path + (target, ))\n",
    "        frontier = next_frontier\n",
    "    return seen.get(dest, set())  # Ensure this returns a list of paths\n",
    "\n",
    "def rename_path(path, airports):\n",
    "    renamed_path = [airports.get(code, 'Unknown') for code in path]  # Use 'Unknown' for missing codes\n",
    "    return tuple(renamed_path)\n",
    "\n",
    "def main(source, dest, max_segments):\n",
    "    airlines = read_airlines()\n",
    "    airports = read_airports()\n",
    "    routes = read_routes()\n",
    "    paths = find_paths(routes, source, dest, max_segments)\n",
    "    output = defaultdict(list)\n",
    "    for path in paths: # path == tuple\n",
    "        segments = len(path)-1\n",
    "        renamed_path = rename_path(path, airports)\n",
    "        output[segments].append(renamed_path)\n",
    "    print (output)\n",
    "    with open(f\"{source}->{dest} (max {max_segments}).json\", 'w') as f:\n",
    "        json.dump(output, f, indent=2, sort_keys=True)\n",
    "if __name__ == '__main__':\n",
    "    main('SFO', 'BOS',2)\n"
   ]
  }
 ],
 "metadata": {
  "kernelspec": {
   "display_name": "Python 3 (ipykernel)",
   "language": "python",
   "name": "python3"
  },
  "language_info": {
   "codemirror_mode": {
    "name": "ipython",
    "version": 3
   },
   "file_extension": ".py",
   "mimetype": "text/x-python",
   "name": "python",
   "nbconvert_exporter": "python",
   "pygments_lexer": "ipython3",
   "version": "3.12.4"
  }
 },
 "nbformat": 4,
 "nbformat_minor": 5
}
